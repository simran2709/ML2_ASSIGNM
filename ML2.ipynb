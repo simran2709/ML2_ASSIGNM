{
  "nbformat": 4,
  "nbformat_minor": 0,
  "metadata": {
    "colab": {
      "provenance": []
    },
    "kernelspec": {
      "name": "python3",
      "display_name": "Python 3"
    },
    "language_info": {
      "name": "python"
    }
  },
  "cells": [
    {
      "cell_type": "markdown",
      "source": [
        "#ASSIGNMENT\n",
        "\n",
        "QUES1.What is Logistic Regression, and how does it differ from Linear Regression?\n",
        "- Logistic Regression is used for classification problems, predicting probabilities between 0 and 1 using a sigmoid function. Linear Regression predicts continuous values using a straight-line relationship.\n",
        "\n",
        "QUES2.Explain the role of the Sigmoid function in Logistic Regression.\n",
        "-The sigmoid function converts raw model output into a probability between 0 and 1, making it suitable for binary classification.\n",
        "\n",
        "QUES3.What is Regularization in Logistic Regression and why is it needed?\n",
        "- Regularization adds a penalty to large coefficients to prevent overfitting, improving model generalization.\n",
        "\n",
        "QUES4.What are some common evaluation metrics for classification models, and why are they important?\n",
        "- Metrics include accuracy, precision, recall, F1-score, and ROC-AUC. They help measure model performance from different perspectives, especially in imbalanced data.\n",
        "\n"
      ],
      "metadata": {
        "id": "H7XjXkhRTRxv"
      }
    },
    {
      "cell_type": "code",
      "execution_count": null,
      "metadata": {
        "colab": {
          "base_uri": "https://localhost:8080/"
        },
        "id": "-gEAIFeFRnRC",
        "outputId": "54662b8d-53bb-4f2c-e779-cd20c6d39851"
      },
      "outputs": [
        {
          "output_type": "stream",
          "name": "stdout",
          "text": [
            "0.9666666666666667\n"
          ]
        }
      ],
      "source": [
        "#QUES5. Write a Python program that loads a CSV file into a Pandas DataFrame, splits into train/test sets, trains a Logistic Regression model, and prints its accuracy. (Use Dataset from sklearn package)\n",
        "from sklearn.datasets import load_iris\n",
        "from sklearn.model_selection import train_test_split\n",
        "from sklearn.linear_model import LogisticRegression\n",
        "from sklearn.metrics import accuracy_score\n",
        "\n",
        "X, y = load_iris(return_X_y=True)\n",
        "Xtr, Xte, ytr, yte = train_test_split(X, y, test_size=0.2)\n",
        "m = LogisticRegression(max_iter=200).fit(Xtr, ytr)\n",
        "print(accuracy_score(yte, m.predict(Xte)))\n"
      ]
    },
    {
      "cell_type": "code",
      "source": [
        "#QUES6.Write a Python program to train a Logistic Regression model using L2 regularization (Ridge) and print the model coefficients and accuracy. (Use Dataset from sklearn package)\n",
        "m = LogisticRegression(penalty='l2', max_iter=200).fit(Xtr, ytr)\n",
        "print(m.coef_, accuracy_score(yte, m.predict(Xte)))\n"
      ],
      "metadata": {
        "colab": {
          "base_uri": "https://localhost:8080/"
        },
        "id": "vNk_1Z0zT4R_",
        "outputId": "4afba860-208d-44ef-d1c2-6f04de0d085d"
      },
      "execution_count": 3,
      "outputs": [
        {
          "output_type": "stream",
          "name": "stdout",
          "text": [
            "[[-0.36813741  0.90485117 -2.36929117 -1.0184715 ]\n",
            " [ 0.48432485 -0.27430985 -0.12459126 -0.96727347]\n",
            " [-0.11618744 -0.63054132  2.49388244  1.98574498]] 0.9666666666666667\n"
          ]
        }
      ]
    },
    {
      "cell_type": "code",
      "source": [
        "#QUES7.Write a Python program to train a Logistic Regression model for multiclass classification using multi_class='ovr' and print the classification report. (Use Dataset from sklearn package)\n",
        "from sklearn.metrics import classification_report\n",
        "m = LogisticRegression(multi_class='ovr', max_iter=200).fit(Xtr, ytr)\n",
        "print(classification_report(yte, m.predict(Xte)))\n"
      ],
      "metadata": {
        "colab": {
          "base_uri": "https://localhost:8080/"
        },
        "id": "dH9yUsBgU1Eu",
        "outputId": "562932cb-d934-42dd-cf10-d27925978d5b"
      },
      "execution_count": 4,
      "outputs": [
        {
          "output_type": "stream",
          "name": "stdout",
          "text": [
            "              precision    recall  f1-score   support\n",
            "\n",
            "           0       1.00      1.00      1.00        11\n",
            "           1       1.00      0.83      0.91        12\n",
            "           2       0.78      1.00      0.88         7\n",
            "\n",
            "    accuracy                           0.93        30\n",
            "   macro avg       0.93      0.94      0.93        30\n",
            "weighted avg       0.95      0.93      0.93        30\n",
            "\n"
          ]
        },
        {
          "output_type": "stream",
          "name": "stderr",
          "text": [
            "/usr/local/lib/python3.11/dist-packages/sklearn/linear_model/_logistic.py:1256: FutureWarning: 'multi_class' was deprecated in version 1.5 and will be removed in 1.7. Use OneVsRestClassifier(LogisticRegression(..)) instead. Leave it to its default value to avoid this warning.\n",
            "  warnings.warn(\n"
          ]
        }
      ]
    },
    {
      "cell_type": "code",
      "source": [
        "#QUES8.Write a Python program to apply GridSearchCV to tune C and penalty hyperparameters for Logistic Regression and print the best parameters and validation accuracy. (Use Dataset from sklearn package)\n",
        "from sklearn.model_selection import GridSearchCV\n",
        "p = {'C':[0.1,1,10], 'penalty':['l1','l2'], 'solver':['liblinear']}\n",
        "g = GridSearchCV(LogisticRegression(max_iter=200), p, cv=3).fit(Xtr, ytr)\n",
        "print(g.best_params_, g.best_score_)\n",
        "\n"
      ],
      "metadata": {
        "colab": {
          "base_uri": "https://localhost:8080/"
        },
        "id": "HAJUIm4-U8Zz",
        "outputId": "921fe2c1-5e1b-4970-b58d-c4ec5402a139"
      },
      "execution_count": 5,
      "outputs": [
        {
          "output_type": "stream",
          "name": "stdout",
          "text": [
            "{'C': 1, 'penalty': 'l2', 'solver': 'liblinear'} 0.9583333333333334\n"
          ]
        }
      ]
    },
    {
      "cell_type": "code",
      "source": [
        "#QUES9.Write a Python program to standardize the features before training Logistic Regression and compare the model's accuracy with and without scaling. (Use Dataset from sklearn package)\n",
        "from sklearn.preprocessing import StandardScaler\n",
        "sc = StandardScaler()\n",
        "Xs_tr, Xs_te = sc.fit_transform(Xtr), sc.transform(Xte)\n",
        "m1 = LogisticRegression(max_iter=200).fit(Xtr, ytr)\n",
        "m2 = LogisticRegression(max_iter=200).fit(Xs_tr, ytr)\n",
        "print(accuracy_score(yte, m1.predict(Xte)), accuracy_score(yte, m2.predict(Xs_te)))\n"
      ],
      "metadata": {
        "colab": {
          "base_uri": "https://localhost:8080/"
        },
        "id": "Xi-5dReyVDuR",
        "outputId": "602d3706-5253-4183-c324-dc2afdf7c4bd"
      },
      "execution_count": 6,
      "outputs": [
        {
          "output_type": "stream",
          "name": "stdout",
          "text": [
            "0.9666666666666667 0.9333333333333333\n"
          ]
        }
      ]
    },
    {
      "cell_type": "markdown",
      "source": [
        "QUES10.Imagine you are working at an e-commerce company that wants to predict which customers will respond to a marketing campaign. Given an imbalanced dataset (only 5% of customers respond), describe the approach you’d take to build a Logistic Regression model — including data handling, feature scaling, balancing classes, hyperparameter tuning, and evaluating the model for this real-world business use case.\n",
        "- Clean and scale data, handle imbalance with SMOTE or class weights, tune C and penalty with GridSearchCV, and evaluate using precision, recall, F1, and ROC-AUC.\n"
      ],
      "metadata": {
        "id": "JGIwAyncVSAH"
      }
    }
  ]
}